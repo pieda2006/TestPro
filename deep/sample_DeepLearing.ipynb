{
 "cells": [
  {
   "cell_type": "code",
   "execution_count": 1,
   "metadata": {},
   "outputs": [],
   "source": [
    "import pandas as pd\n",
    "import numpy as np\n",
    "import matplotlib.pyplot as plt\n",
    "from sklearn.preprocessing import MinMaxScaler\n",
    "from sklearn.metrics import mean_absolute_error\n",
    "import tensorflow as tf"
   ]
  },
  {
   "cell_type": "code",
   "execution_count": 2,
   "metadata": {},
   "outputs": [
    {
     "name": "stdout",
     "output_type": "stream",
     "text": [
      "      TICKER  DTYYYYMMDD    TIME   OPEN   HIGH    LOW  CLOSE\n",
      "6183  USDJPY    20101231  170000  81.22  81.25  80.92  81.08\n",
      "6184  USDJPY    20101231  180000  81.09  81.15  81.04  81.09\n",
      "6185  USDJPY    20101231  190000  81.09  81.21  81.09  81.16\n",
      "6186  USDJPY    20101231  200000  81.17  81.27  81.16  81.24\n",
      "6187  USDJPY    20101231  210000  81.24  81.29  81.14  81.17\n",
      "\n",
      "      TICKER  DTYYYYMMDD    TIME   OPEN   HIGH    LOW  CLOSE    ANS\n",
      "6183  USDJPY    20101231  170000  81.22  81.25  80.92  81.08  81.15\n",
      "6184  USDJPY    20101231  180000  81.09  81.15  81.04  81.09  81.21\n",
      "6185  USDJPY    20101231  190000  81.09  81.21  81.09  81.16  81.27\n",
      "6186  USDJPY    20101231  200000  81.17  81.27  81.16  81.24  81.29\n",
      "6187  USDJPY    20101231  210000  81.24  81.29  81.14  81.17    NaN\n",
      "\n",
      "       OPEN   HIGH    LOW  CLOSE    ANS\n",
      "6182  81.30  81.31  81.21  81.21  81.25\n",
      "6183  81.22  81.25  80.92  81.08  81.15\n",
      "6184  81.09  81.15  81.04  81.09  81.21\n",
      "6185  81.09  81.21  81.09  81.16  81.27\n",
      "6186  81.17  81.27  81.16  81.24  81.29\n",
      "\n",
      "シェイプ[0]:  6187\n",
      "シェイプ[1]:  5\n",
      "\n",
      "[81.15 81.17 81.11 81.16 81.16]\n",
      "[-0.96293656] [-0.9798995  -0.96011396 -0.96291013 -0.98133525]\n",
      "[81.15 81.17 81.11 81.16 81.16]\n"
     ]
    }
   ],
   "source": [
    "# CSVファイルから過去レートを読み込む\n",
    "df = pd.read_csv(\"USDJPY_hourly2010_train.txt\")\n",
    "\n",
    "# データの最後尾を表示\n",
    "print(df.tail())\n",
    "\n",
    "# 最後の列にHIGHを追加\n",
    "df_shift = df.copy()\n",
    "df_shift['ANS'] = df['HIGH']\n",
    "df_shift.ANS = df_shift.ANS.shift(-1)\n",
    " \n",
    "# 改めてデータを確認\n",
    "print(\"\")\n",
    "print(df_shift.tail())\n",
    "\n",
    "# 最後の行を除外\n",
    "df_shift = df_shift[:-1]\n",
    " \n",
    "# 念のためデータをdf_2として新しいデータフレームへコピ−\n",
    "df_2 = df_shift.copy()\n",
    " \n",
    "# time（時間）を削除\n",
    "del df_2['DTYYYYMMDD']\n",
    "del df_2['TIME']\n",
    "del df_2['TICKER']\n",
    "\n",
    "# 改めてデータを確認\n",
    "print(\"\")\n",
    "print(df_2.tail())\n",
    "\n",
    "# データセットのサイズを確認\n",
    "print(\"\")\n",
    "print(\"シェイプ[0]: \",df_2.shape[0])\n",
    "print(\"シェイプ[1]: \",df_2.shape[1])\n",
    "\n",
    "# データセットの行数と列数を格納\n",
    "n = df_2.shape[0]\n",
    "p = df_2.shape[1]\n",
    "\n",
    "# 訓練データとテストデータへ切り分け\n",
    "train_start = 0\n",
    "train_end = int(np.floor(0.8*n))\n",
    "test_start = train_end + 1\n",
    "test_end = n\n",
    "data_train = df_2.loc[np.arange(train_start, train_end), :]\n",
    "data_test = df_2.loc[np.arange(test_start, test_end), :]\n",
    "\n",
    "# データの正規化\n",
    "scaler = MinMaxScaler(feature_range=(-1, 1))\n",
    "scaler.fit(data_train)\n",
    "data_train_norm = scaler.transform(data_train)\n",
    "data_test_norm = scaler.transform(data_test)\n",
    "\n",
    "# 特徴量とターゲットへ切り分け\n",
    "X_train = data_train_norm[:, 1:]\n",
    "y_train = data_train_norm[:, 0]\n",
    "X_test = data_test_norm[:, 1:]\n",
    "y_test = data_test_norm[:, 0]\n",
    "\n",
    "# 正規化から通常の値へ戻す\n",
    "y_test = y_test.reshape(1237, 1)\n",
    "test_inv = np.concatenate((y_test, X_test), axis=1)\n",
    "test_inv = scaler.inverse_transform(test_inv)\n",
    "\n",
    "# 正規化の前のテストデータ\n",
    "print(\"\")\n",
    "print(data_test.values[0])\n",
    " \n",
    "# 正規化後のテストデータ\n",
    "print(y_test[0], X_test[0])\n",
    " \n",
    "# 正規化から戻したデータ\n",
    "print(test_inv[0])"
   ]
  },
  {
   "cell_type": "code",
   "execution_count": 3,
   "metadata": {},
   "outputs": [
    {
     "name": "stdout",
     "output_type": "stream",
     "text": [
      "WARNING:tensorflow:From /usr/local/lib/python3.5/dist-packages/tensorflow/python/framework/op_def_library.py:263: colocate_with (from tensorflow.python.framework.ops) is deprecated and will be removed in a future version.\n",
      "Instructions for updating:\n",
      "Colocations handled automatically by placer.\n"
     ]
    }
   ],
   "source": [
    "# 訓練データの特徴量の数を取得\n",
    "n_stocks = X_train.shape[1]\n",
    " \n",
    "# ニューロンの数を設定\n",
    "n_neurons_1 = 256\n",
    "n_neurons_2 = 128\n",
    " \n",
    "# セッションの開始\n",
    "net = tf.InteractiveSession()\n",
    " \n",
    "# プレースホルダーの作成\n",
    "X = tf.placeholder(dtype=tf.float32, shape=[None, n_stocks])\n",
    "Y = tf.placeholder(dtype=tf.float32, shape=[None])\n",
    " \n",
    "# 初期化\n",
    "sigma = 1\n",
    "weight_initializer = tf.variance_scaling_initializer(mode=\"fan_avg\", distribution=\"uniform\", scale=sigma)\n",
    "bias_initializer = tf.zeros_initializer()\n",
    "\n",
    "# Hidden weights\n",
    "W_hidden_1 = tf.Variable(weight_initializer([n_stocks, n_neurons_1]))\n",
    "bias_hidden_1 = tf.Variable(bias_initializer([n_neurons_1]))\n",
    "W_hidden_2 = tf.Variable(weight_initializer([n_neurons_1, n_neurons_2]))\n",
    "bias_hidden_2 = tf.Variable(bias_initializer([n_neurons_2]))\n",
    "\n",
    "# 出力の重み\n",
    "W_out = tf.Variable(weight_initializer([n_neurons_2, 1]))\n",
    "bias_out = tf.Variable(bias_initializer([1]))\n",
    "\n",
    "# 隠れ層の設定（ReLU＝活性化関数）\n",
    "hidden_1 = tf.nn.relu(tf.add(tf.matmul(X, W_hidden_1), bias_hidden_1))\n",
    "hidden_2 = tf.nn.relu(tf.add(tf.matmul(hidden_1, W_hidden_2), bias_hidden_2))\n",
    "\n",
    "# 出力層の設定\n",
    "out = tf.transpose(tf.add(tf.matmul(hidden_2, W_out), bias_out))\n",
    "\n",
    "# 隠れ層の設定（ReLU＝活性化関数）\n",
    "hidden_1 = tf.nn.relu(tf.add(tf.matmul(X, W_hidden_1), bias_hidden_1))\n",
    "hidden_2 = tf.nn.relu(tf.add(tf.matmul(hidden_1, W_hidden_2), bias_hidden_2))\n",
    " \n",
    "# 出力層の設定\n",
    "out = tf.transpose(tf.add(tf.matmul(hidden_2, W_out), bias_out))\n",
    "\n",
    "# コスト関数\n",
    "mse = tf.reduce_mean(tf.squared_difference(out, Y))\n",
    " \n",
    "# 最適化関数\n",
    "opt = tf.train.AdamOptimizer().minimize(mse)"
   ]
  },
  {
   "cell_type": "code",
   "execution_count": 4,
   "metadata": {},
   "outputs": [],
   "source": [
    "# 初期化\n",
    "net.run(tf.global_variables_initializer())\n",
    "\n",
    "# ニューラルネットワークの設定\n",
    "batch_size = 128\n",
    "mse_train = []\n",
    "mse_test = []\n",
    " \n",
    "# 訓練開始！500回の反復処理\n",
    "epochs = 500\n",
    "for e in range(epochs):\n",
    "    net.run(opt, feed_dict={X: X_train, Y: y_train})"
   ]
  },
  {
   "cell_type": "code",
   "execution_count": 5,
   "metadata": {},
   "outputs": [
    {
     "data": {
      "text/html": [
       "<div>\n",
       "<style scoped>\n",
       "    .dataframe tbody tr th:only-of-type {\n",
       "        vertical-align: middle;\n",
       "    }\n",
       "\n",
       "    .dataframe tbody tr th {\n",
       "        vertical-align: top;\n",
       "    }\n",
       "\n",
       "    .dataframe thead th {\n",
       "        text-align: right;\n",
       "    }\n",
       "</style>\n",
       "<table border=\"1\" class=\"dataframe\">\n",
       "  <thead>\n",
       "    <tr style=\"text-align: right;\">\n",
       "      <th></th>\n",
       "      <th>TICKER</th>\n",
       "      <th>DTYYYYMMDD</th>\n",
       "      <th>TIME</th>\n",
       "      <th>OPEN</th>\n",
       "      <th>HIGH</th>\n",
       "      <th>LOW</th>\n",
       "      <th>CLOSE</th>\n",
       "      <th>ANS</th>\n",
       "    </tr>\n",
       "  </thead>\n",
       "  <tbody>\n",
       "    <tr>\n",
       "      <th>6186</th>\n",
       "      <td>USDJPY</td>\n",
       "      <td>20101231</td>\n",
       "      <td>200000</td>\n",
       "      <td>81.17</td>\n",
       "      <td>81.27</td>\n",
       "      <td>81.16</td>\n",
       "      <td>81.24</td>\n",
       "      <td>81.29</td>\n",
       "    </tr>\n",
       "  </tbody>\n",
       "</table>\n",
       "</div>"
      ],
      "text/plain": [
       "      TICKER  DTYYYYMMDD    TIME   OPEN   HIGH    LOW  CLOSE    ANS\n",
       "6186  USDJPY    20101231  200000  81.17  81.27  81.16  81.24  81.29"
      ]
     },
     "execution_count": 5,
     "metadata": {},
     "output_type": "execute_result"
    }
   ],
   "source": [
    "# テストデータで予測\n",
    "pred_test = net.run(out, feed_dict={X: X_test})\n",
    " \n",
    "# 予測データの最初の2つを表示\n",
    "pred_test[0][0:2]\n",
    "\n",
    "# 予測値をテストデータに戻そう（値も正規化からインバース）\n",
    "pred_test = np.concatenate((pred_test.T, X_test), axis=1)\n",
    "pred_inv = scaler.inverse_transform(pred_test)\n",
    " \n",
    "# 元データの最後尾\n",
    "df_shift.tail(1)"
   ]
  },
  {
   "cell_type": "code",
   "execution_count": 6,
   "metadata": {},
   "outputs": [
    {
     "name": "stdout",
     "output_type": "stream",
     "text": [
      "[81.38 81.43 81.31 81.32 81.42]\n",
      "[81.38 81.43 81.31 81.32 81.42]\n",
      "[81.39394623 81.43       81.31       81.32       81.42      ]\n"
     ]
    }
   ],
   "source": [
    "# テストデータの最後のデータ（正規化前）\n",
    "print(data_test.values[98])\n",
    " \n",
    "# テストデータの最後のデータ（正規化を戻した後）\n",
    "print(test_inv[98])\n",
    " \n",
    "# モデルが予測したデータ\n",
    "print(pred_inv[98])"
   ]
  },
  {
   "cell_type": "code",
   "execution_count": 7,
   "metadata": {},
   "outputs": [
    {
     "data": {
      "image/png": "[encoded data removed]",
      "text/plain": [
       "<Figure size 432x288 with 1 Axes>"
      ]
     },
     "metadata": {
      "needs_background": "light"
     },
     "output_type": "display_data"
    }
   ],
   "source": [
    "# 予測と実際のテストの終値のチャートをプロットしてみよう\n",
    "plt.ion()\n",
    "fig = plt.figure()\n",
    "ax1 = fig.add_subplot(111)\n",
    "line1, = ax1.plot(test_inv[:,0])\n",
    "line2, = ax1.plot(pred_inv[:,0])\n",
    "plt.show()"
   ]
  },
  {
   "cell_type": "code",
   "execution_count": 8,
   "metadata": {},
   "outputs": [
    {
     "data": {
      "text/plain": [
       "array([ 0.71347113,  0.68781183,  0.70919458, ..., -1.        ,\n",
       "       -0.96863863, -0.98574483])"
      ]
     },
     "execution_count": 8,
     "metadata": {},
     "output_type": "execute_result"
    }
   ],
   "source": []
  },
  {
   "cell_type": "code",
   "execution_count": null,
   "metadata": {},
   "outputs": [],
   "source": []
  }
 ],
 "metadata": {
  "kernelspec": {
   "display_name": "Python 3",
   "language": "python",
   "name": "python3"
  },
  "language_info": {
   "codemirror_mode": {
    "name": "ipython",
    "version": 3
   },
   "file_extension": ".py",
   "mimetype": "text/x-python",
   "name": "python",
   "nbconvert_exporter": "python",
   "pygments_lexer": "ipython3",
   "version": "3.5.2"
  }
 },
 "nbformat": 4,
 "nbformat_minor": 2
}
